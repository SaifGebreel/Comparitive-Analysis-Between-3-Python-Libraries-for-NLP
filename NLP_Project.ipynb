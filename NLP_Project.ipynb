{
  "nbformat": 4,
  "nbformat_minor": 0,
  "metadata": {
    "colab": {
      "provenance": []
    },
    "kernelspec": {
      "name": "python3",
      "display_name": "Python 3"
    },
    "language_info": {
      "name": "python"
    },
    "accelerator": "GPU",
    "gpuClass": "standard"
  },
  "cells": [
    {
      "cell_type": "markdown",
      "source": [
        "# **Trying TEXTBLOB**\n",
        "Textblob is a free library that works as a spell checker only. It has mediocre accuracy and it is unreliable"
      ],
      "metadata": {
        "id": "IO6JaTSvabfD"
      }
    },
    {
      "cell_type": "code",
      "execution_count": 34,
      "metadata": {
        "colab": {
          "base_uri": "https://localhost:8080/"
        },
        "id": "d4mAGmLPVNnl",
        "outputId": "b755d0e1-ad16-45e7-a567-0f0d65de81f9"
      },
      "outputs": [
        {
          "output_type": "stream",
          "name": "stdout",
          "text": [
            "I am not in gangar. I am the denger.\n",
            "I am not in danger. I am the danger.\n"
          ]
        }
      ],
      "source": [
        "from textblob import TextBlob\n",
        "\n",
        "input_word = input()\n",
        "sent = TextBlob(input_word)\n",
        "result = str(sent.correct())\n",
        "\n",
        "print(result)\n",
        "\n"
      ]
    },
    {
      "cell_type": "markdown",
      "source": [
        "# **Switching to GINGER IT**\n",
        "Also a free library, but it works as a grammar checker as well as a spelling checker"
      ],
      "metadata": {
        "id": "rcfbVVXPbXnf"
      }
    },
    {
      "cell_type": "code",
      "source": [
        "!pip install gingerit"
      ],
      "metadata": {
        "colab": {
          "base_uri": "https://localhost:8080/"
        },
        "id": "WaCULKdjoXE1",
        "outputId": "3b939f18-f562-4b44-9e84-4007d6634d20"
      },
      "execution_count": 4,
      "outputs": [
        {
          "output_type": "stream",
          "name": "stdout",
          "text": [
            "Looking in indexes: https://pypi.org/simple, https://us-python.pkg.dev/colab-wheels/public/simple/\n",
            "Collecting gingerit\n",
            "  Downloading gingerit-0.9.0-py3-none-any.whl (3.4 kB)\n",
            "Collecting cloudscraper<2.0.0,>=1.2.66\n",
            "  Downloading cloudscraper-1.2.68-py2.py3-none-any.whl (98 kB)\n",
            "\u001b[2K     \u001b[90m━━━━━━━━━━━━━━━━━━━━━━━━━━━━━━━━━━━━━━━━\u001b[0m \u001b[32m98.6/98.6 KB\u001b[0m \u001b[31m6.3 MB/s\u001b[0m eta \u001b[36m0:00:00\u001b[0m\n",
            "\u001b[?25hRequirement already satisfied: pyparsing>=2.4.7 in /usr/local/lib/python3.8/dist-packages (from cloudscraper<2.0.0,>=1.2.66->gingerit) (3.0.9)\n",
            "Collecting requests-toolbelt>=0.9.1\n",
            "  Downloading requests_toolbelt-0.10.1-py2.py3-none-any.whl (54 kB)\n",
            "\u001b[2K     \u001b[90m━━━━━━━━━━━━━━━━━━━━━━━━━━━━━━━━━━━━━━━━\u001b[0m \u001b[32m54.5/54.5 KB\u001b[0m \u001b[31m7.6 MB/s\u001b[0m eta \u001b[36m0:00:00\u001b[0m\n",
            "\u001b[?25hRequirement already satisfied: requests>=2.9.2 in /usr/local/lib/python3.8/dist-packages (from cloudscraper<2.0.0,>=1.2.66->gingerit) (2.25.1)\n",
            "Requirement already satisfied: idna<3,>=2.5 in /usr/local/lib/python3.8/dist-packages (from requests>=2.9.2->cloudscraper<2.0.0,>=1.2.66->gingerit) (2.10)\n",
            "Requirement already satisfied: certifi>=2017.4.17 in /usr/local/lib/python3.8/dist-packages (from requests>=2.9.2->cloudscraper<2.0.0,>=1.2.66->gingerit) (2022.12.7)\n",
            "Requirement already satisfied: urllib3<1.27,>=1.21.1 in /usr/local/lib/python3.8/dist-packages (from requests>=2.9.2->cloudscraper<2.0.0,>=1.2.66->gingerit) (1.24.3)\n",
            "Requirement already satisfied: chardet<5,>=3.0.2 in /usr/local/lib/python3.8/dist-packages (from requests>=2.9.2->cloudscraper<2.0.0,>=1.2.66->gingerit) (4.0.0)\n",
            "Installing collected packages: requests-toolbelt, cloudscraper, gingerit\n",
            "Successfully installed cloudscraper-1.2.68 gingerit-0.9.0 requests-toolbelt-0.10.1\n"
          ]
        }
      ]
    },
    {
      "cell_type": "code",
      "source": [
        "from gingerit.gingerit import GingerIt\n",
        "\n",
        "parser = GingerIt()\n",
        "text = input(\"Enter text here: \")\n",
        "correct_text = parser.parse(text) \n",
        "print( correct_text)\n",
        "print ('The corrected text: ',correct_text[\"result\"])\n",
        "\n",
        "import time\n",
        "start_time = time.time()\n",
        "\n",
        "print(\"--- %s seconds ---\" % (time.time() - start_time))"
      ],
      "metadata": {
        "colab": {
          "base_uri": "https://localhost:8080/"
        },
        "id": "-Y3vypn7oJsh",
        "outputId": "53c1cf63-8e33-4dec-940d-0fac2f0c18a7"
      },
      "execution_count": 23,
      "outputs": [
        {
          "output_type": "stream",
          "name": "stdout",
          "text": [
            "Enter text here: I see youuu yeterdayss\n",
            "{'text': 'I see youuu yeterdayss', 'result': 'I saw you yesterday', 'corrections': [{'start': 12, 'text': 'yeterdayss', 'correct': 'yesterday', 'definition': 'the day immediately before today'}, {'start': 6, 'text': 'youuu', 'correct': 'you', 'definition': 'second person pronoun; the person addressed'}, {'start': 2, 'text': 'see', 'correct': 'saw', 'definition': None}]}\n",
            "The corrected text:  I saw you yesterday\n",
            "--- 3.790855407714844e-05 seconds ---\n"
          ]
        }
      ]
    },
    {
      "cell_type": "markdown",
      "source": [
        "# **The SPELLO library**"
      ],
      "metadata": {
        "id": "RCNulyLcl7oE"
      }
    },
    {
      "cell_type": "code",
      "source": [
        "!pip install spello\n",
        "import re"
      ],
      "metadata": {
        "colab": {
          "base_uri": "https://localhost:8080/"
        },
        "id": "2YVLLZ5RSCKo",
        "outputId": "5d3b0784-c758-4d3e-e871-5f5e81288cf9"
      },
      "execution_count": 8,
      "outputs": [
        {
          "output_type": "stream",
          "name": "stdout",
          "text": [
            "Looking in indexes: https://pypi.org/simple, https://us-python.pkg.dev/colab-wheels/public/simple/\n",
            "Collecting spello\n",
            "  Downloading spello-1.3.0-py3-none-any.whl (25 kB)\n",
            "Requirement already satisfied: nltk<4,>=3.4.5 in /usr/local/lib/python3.8/dist-packages (from spello) (3.7)\n",
            "Requirement already satisfied: joblib in /usr/local/lib/python3.8/dist-packages (from nltk<4,>=3.4.5->spello) (1.2.0)\n",
            "Requirement already satisfied: tqdm in /usr/local/lib/python3.8/dist-packages (from nltk<4,>=3.4.5->spello) (4.64.1)\n",
            "Requirement already satisfied: regex>=2021.8.3 in /usr/local/lib/python3.8/dist-packages (from nltk<4,>=3.4.5->spello) (2022.6.2)\n",
            "Requirement already satisfied: click in /usr/local/lib/python3.8/dist-packages (from nltk<4,>=3.4.5->spello) (7.1.2)\n",
            "Installing collected packages: spello\n",
            "Successfully installed spello-1.3.0\n"
          ]
        }
      ]
    },
    {
      "cell_type": "code",
      "source": [
        "from spello.model import SpellCorrectionModel"
      ],
      "metadata": {
        "id": "vNQ2FD0Fm9z9"
      },
      "execution_count": 9,
      "outputs": []
    },
    {
      "cell_type": "code",
      "source": [
        "sp = SpellCorrectionModel(language='en')"
      ],
      "metadata": {
        "id": "l0xsa4w4R4Fl"
      },
      "execution_count": 10,
      "outputs": []
    },
    {
      "cell_type": "code",
      "source": [
        "with open('/content/birkbeck.txt','r') as file:\n",
        "  data = file.readlines() "
      ],
      "metadata": {
        "id": "ijEyaqGBVpzS"
      },
      "execution_count": 11,
      "outputs": []
    },
    {
      "cell_type": "code",
      "source": [
        "data = [i.strip() for i in data]"
      ],
      "metadata": {
        "id": "d44Ss7tawDu7"
      },
      "execution_count": 12,
      "outputs": []
    },
    {
      "cell_type": "code",
      "source": [
        "with open('/content/big.txt','r') as file:\n",
        "  big = file.readlines() \n",
        "\n",
        "big = [i.strip() for i in big]\n",
        "\n",
        "big_t = [re.sub('\\\\t', ' ', text) for text in big]\n",
        "\n",
        "big_ = [re.sub(\"\\\\'\", \"\", text) for text in big_t]\n",
        "\n",
        "big_r = [text for text in big_ if text != '']\n",
        "\n",
        "big_star = [re.sub(r'[^a-zA-Z]+', ' ', text) for text in big_r]\n",
        "\n",
        "big_stripped = [text.strip() for text in big_star]\n"
      ],
      "metadata": {
        "id": "CJ7WuCRdyH_x"
      },
      "execution_count": 13,
      "outputs": []
    },
    {
      "cell_type": "code",
      "source": [
        "corp = data + big_stripped\n"
      ],
      "metadata": {
        "id": "Y60XieHDwWKC"
      },
      "execution_count": 14,
      "outputs": []
    },
    {
      "cell_type": "code",
      "source": [
        "sp.train(corp)\n",
        "import time\n",
        "start_time = time.time()\n",
        "\n",
        "print(\"--- %s seconds ---\" % (time.time() - start_time))"
      ],
      "metadata": {
        "colab": {
          "base_uri": "https://localhost:8080/"
        },
        "id": "tSrrZZublIcK",
        "outputId": "ec3122d4-e7aa-40a5-afb7-a34fbdcec230"
      },
      "execution_count": 15,
      "outputs": [
        {
          "output_type": "stream",
          "name": "stdout",
          "text": [
            "Spello training started..\n"
          ]
        },
        {
          "output_type": "stream",
          "name": "stderr",
          "text": [
            "DEBUG:spello.settings:Spello training started..\n"
          ]
        },
        {
          "output_type": "stream",
          "name": "stdout",
          "text": [
            "Context model training started ...\n"
          ]
        },
        {
          "output_type": "stream",
          "name": "stderr",
          "text": [
            "DEBUG:spello.settings:Context model training started ...\n"
          ]
        },
        {
          "output_type": "stream",
          "name": "stdout",
          "text": [
            "Symspell training started ...\n"
          ]
        },
        {
          "output_type": "stream",
          "name": "stderr",
          "text": [
            "DEBUG:spello.settings:Symspell training started ...\n"
          ]
        },
        {
          "output_type": "stream",
          "name": "stdout",
          "text": [
            "Phoneme training started ...\n"
          ]
        },
        {
          "output_type": "stream",
          "name": "stderr",
          "text": [
            "DEBUG:spello.settings:Phoneme training started ...\n"
          ]
        },
        {
          "output_type": "stream",
          "name": "stdout",
          "text": [
            "Spello training completed successfully ...\n"
          ]
        },
        {
          "output_type": "stream",
          "name": "stderr",
          "text": [
            "DEBUG:spello.settings:Spello training completed successfully ...\n"
          ]
        },
        {
          "output_type": "stream",
          "name": "stdout",
          "text": [
            "--- 5.841255187988281e-05 seconds ---\n"
          ]
        }
      ]
    },
    {
      "cell_type": "code",
      "source": [
        "sent = input()\n",
        "sp.spell_correct(sent)\n",
        "\n",
        "import time\n",
        "start_time = time.time()\n",
        "\n",
        "print(\"--- %s seconds ---\" % (time.time() - start_time))"
      ],
      "metadata": {
        "colab": {
          "base_uri": "https://localhost:8080/"
        },
        "id": "Oy2TJ-MCwZEr",
        "outputId": "46ed27d0-3947-4dd0-9dde-4125844c6a99"
      },
      "execution_count": 24,
      "outputs": [
        {
          "name": "stdout",
          "output_type": "stream",
          "text": [
            "I see youuu yeterdayss\n"
          ]
        },
        {
          "output_type": "stream",
          "name": "stderr",
          "text": [
            "DEBUG:spello.settings:Symspell suggestions: [('you', 2), ('your', 2), ('young', 2), ('youll', 2), ('youre', 2), ('youth', 2), ('yours', 2), ('youve', 2), ('youd', 2), ('yous', 2), ('youst', 2), (\"you'd\", 2), (\"you'l\", 2), ('yorug', 2), ('youg', 2), ('you', 2), ('voulu', 2), ('fouru', 2)]\n",
            "DEBUG:spello.settings:Phoneme suggestions: [('you', 2), ('you', 2), ('you', 2), ('yoy', 3), ('yow', 3), ('yau', 3), ('yau', 3), ('yuo', 3)]\n",
            "DEBUG:spello.settings:Symspell suggestions: [('yesterdays', 2), ('yesterdays', 2), ('yesterdays', 2)]\n",
            "DEBUG:spello.settings:Phoneme suggestions: []\n",
            "DEBUG:spello.settings:Suggestions dict from phoneme and symspell are: {'youuu': ['you', 'your', 'young', 'youll', 'youre', 'youth', 'yours', 'youve', 'youd', 'yous', 'youst', \"you'd\", \"you'l\", 'yorug', 'youg', 'voulu', 'fouru', 'yoy', 'yow', 'yau', 'yuo'], 'yeterdayss': ['yesterdays']}\n",
            "DEBUG:spello.settings:text after context model: I see you yesterdays\n",
            "DEBUG:spello.settings:Spell-correction Results {'original_text': 'I see youuu yeterdayss', 'spell_corrected_text': 'I see you yesterdays', 'correction_dict': {'youuu': 'you', 'yeterdayss': 'yesterdays'}}\n"
          ]
        },
        {
          "output_type": "stream",
          "name": "stdout",
          "text": [
            "--- 5.817413330078125e-05 seconds ---\n"
          ]
        }
      ]
    }
  ]
}